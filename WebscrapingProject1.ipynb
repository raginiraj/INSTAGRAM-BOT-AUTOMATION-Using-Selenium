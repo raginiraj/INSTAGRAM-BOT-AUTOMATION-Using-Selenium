{
 "cells": [
  {
   "cell_type": "markdown",
   "metadata": {},
   "source": [
    "###  LOGIN TO YOUR INSTAGRAM ACCOUNT USING USER NAME AND PASSWORD"
   ]
  },
  {
   "cell_type": "code",
   "execution_count": 1,
   "metadata": {},
   "outputs": [],
   "source": [
    "from selenium import webdriver\n",
    "from selenium.webdriver.common.keys import Keys\n",
    "import time\n",
    "from selenium.common.exceptions import NoSuchElementException\n",
    "from selenium.common.exceptions import StaleElementReferenceException\n",
    "from selenium.common.exceptions import TimeoutException\n",
    "from selenium.webdriver.support.ui import WebDriverWait\n",
    "from selenium.webdriver.support import expected_conditions as EC\n",
    "from selenium.webdriver.common.by import By\n",
    "from selenium.webdriver.support.select import Select\n",
    "\n",
    "driver = webdriver.Chrome(executable_path = \"C:/Users/des/Downloads/chromedriver\")\n",
    "driver.get('https://www.instagram.com/')\n",
    "waiter=WebDriverWait(driver,10).until(EC.presence_of_element_located((By.NAME,\"username\")))\n",
    "usernametext=driver.find_element_by_name('username')\n",
    "passwordtext=driver.find_element_by_name('password')\n",
    "usernametext.send_keys('SampleUSerNAme')\n",
    "passwordtext.send_keys('SamplePASSWORD')\n",
    "log_in=driver.find_element_by_class_name('L3NKy')\n",
    "log_in.click()\n"
   ]
  },
  {
   "cell_type": "markdown",
   "metadata": {},
   "source": [
    "### Type for “food” in search bar and print all the names of the Instagram Handles that are displayed in list after typing “food”"
   ]
  },
  {
   "cell_type": "code",
   "execution_count": 3,
   "metadata": {},
   "outputs": [
    {
     "name": "stdout",
     "output_type": "stream",
     "text": [
      "foodkaseries\n",
      "lucknowfoody\n",
      "delhigram_\n",
      "gajabfood\n",
      "the.food.stalwart\n",
      "sidishungry\n",
      "food\n",
      "lucknowfoodguide\n",
      "foodie.__.world_\n",
      "booksandgoodfood\n",
      "fingerlickingfeast\n",
      "foodbook_by_juhi\n",
      "nazariya_bysakshi\n",
      "mealsfortummy\n",
      "flourishingfoodieee\n",
      "banarasi_food_blogger_\n",
      "the_foodie.bong\n",
      "delhi_foodgasm\n",
      "hungry_marionette\n",
      "foodie_neighbour\n",
      "desiduniyafoodtalk\n",
      "foodie_surti_gj5\n",
      "_food_food_everywhere\n",
      "_wokoflove\n",
      "foodiologylko\n",
      "foodie_guy101\n",
      "foodies_world._\n",
      "namasteindiafoods\n",
      "foo_dieforeever\n",
      "only_homemade_food99\n",
      "varanasi_food_shaukeens\n",
      "kraviings\n",
      "food.over.curve\n",
      "foodiemoodie1999official\n",
      "foodverse_by_sakshi\n",
      "donut_stop_eating8\n",
      "meerutfoodie\n",
      "0foodgasm0\n",
      "kanpur_foodies\n",
      "foodravelblog\n",
      "kollamfoodstories\n",
      "urfoodcravings\n",
      "kanpurfoodexplorers\n",
      "introfoodie\n",
      "_foodandbae_\n",
      "paidaishi_foodie\n",
      "temptingtastebud\n",
      "foodie__planet\n",
      "brood_jaipur_food\n",
      "f__for_food\n",
      "food.obsessed.too_\n",
      "desi.food55\n",
      "foodi_estan\n",
      "hungrysouls4\n",
      "foodoholicgirl\n"
     ]
    }
   ],
   "source": [
    "#driver.find_element_by_class_name('HoLwm').click()\n",
    "search_box=driver.find_element_by_class_name('TqC_a').click()\n",
    "waiter=WebDriverWait(driver, 10).until(EC.presence_of_element_located((By.CLASS_NAME, \"XTCLo\")))\n",
    "search_box=driver.find_element_by_class_name('XTCLo')\n",
    "search_box.send_keys('food')\n",
    "waiter=WebDriverWait(driver, 10).until(EC.presence_of_element_located((By.XPATH, '//a[@class=\"yCE8d  \"]/div/div[2]/div/span')))\n",
    "for i in driver.find_elements_by_xpath('//a[@class=\"yCE8d  \"]/div/div[2]/div/span'):\n",
    "    print(i.get_attribute('innerHTML'))\n",
    "waiter=WebDriverWait(driver, 10).until(EC.presence_of_element_located((By.CLASS_NAME, \"coreSpriteSearchClear\")))"
   ]
  },
  {
   "cell_type": "markdown",
   "metadata": {},
   "source": [
    "### Searching and Opening a profile of “So Delhi”"
   ]
  },
  {
   "cell_type": "code",
   "execution_count": 4,
   "metadata": {},
   "outputs": [],
   "source": [
    "driver.back()\n",
    "driver.find_element_by_class_name('HoLwm').click()\n",
    "search_box=driver.find_element_by_class_name('XTCLo')\n",
    "search_box.send_keys('So Delhi')\n",
    "waiter=WebDriverWait(driver, 10).until(EC.presence_of_element_located((By.CLASS_NAME, \"yCE8d\")))\n",
    "driver.find_element_by_class_name('yCE8d').click()"
   ]
  },
  {
   "cell_type": "markdown",
   "metadata": {},
   "source": [
    "### Open the Instagram Handle of “So Delhi”\n",
    "### Start following it. Print a message if you are already following\n",
    "### After following, unfollow the instagram handle. Print a message if you have already unfollowed."
   ]
  },
  {
   "cell_type": "code",
   "execution_count": 5,
   "metadata": {},
   "outputs": [],
   "source": [
    "if driver.find_element_by_class_name('_6VtSN').get_attribute('innerHTML')=='Following':\n",
    "    print('You are now following the SO DELHI page!')\n",
    "else:\n",
    "    driver.find_element_by_xpath('//button[contains(@class, \"_6VtSN\")]').click()"
   ]
  },
  {
   "cell_type": "code",
   "execution_count": 6,
   "metadata": {},
   "outputs": [],
   "source": [
    "if driver.find_element_by_class_name('_6VtSN').get_attribute('innerHTML')=='Following':\n",
    "    driver.find_element_by_class_name('_6VtSN').click()\n",
    "    driver.find_element_by_xpath('//button[contains(@class, \"-Cab_\")]').click()\n",
    "else:\n",
    "    print('You have already unfollowed the page')"
   ]
  },
  {
   "cell_type": "markdown",
   "metadata": {},
   "source": [
    "### Liking the top 30 posts of the ‘dilsefoodie'. Print message if you have already liked it."
   ]
  },
  {
   "cell_type": "code",
   "execution_count": 50,
   "metadata": {},
   "outputs": [
    {
     "name": "stdout",
     "output_type": "stream",
     "text": [
      "Already Liked the Picture!\n",
      "Already Liked the Picture!\n",
      "Already Liked the Picture!\n",
      "Already Liked the Picture!\n",
      "Already Liked the Picture!\n",
      "Already Liked the Picture!\n",
      "Already Liked the Picture!\n",
      "Already Liked the Picture!\n",
      "Already Liked the Picture!\n",
      "Already Liked the Picture!\n",
      "Already Liked the Picture!\n",
      "Already Liked the Picture!\n",
      "Already Liked the Picture!\n",
      "Already Liked the Picture!\n",
      "Already Liked the Picture!\n",
      "Already Liked the Picture!\n",
      "Already Liked the Picture!\n",
      "Already Liked the Picture!\n",
      "Already Liked the Picture!\n",
      "Already Liked the Picture!\n",
      "Already Liked the Picture!\n",
      "Already Liked the Picture!\n",
      "Already Liked the Picture!\n",
      "Already Liked the Picture!\n",
      "Already Liked the Picture!\n",
      "Already Liked the Picture!\n",
      "Already Liked the Picture!\n",
      "Already Liked the Picture!\n",
      "Already Liked the Picture!\n",
      "Already Liked the Picture!\n",
      "Liked All ! 30  pictures\n"
     ]
    }
   ],
   "source": [
    "driver.find_element_by_class_name('TqC_a').click()\n",
    "waiter=WebDriverWait(driver, 10).until(EC.presence_of_element_located((By.CLASS_NAME, \"XTCLo\")))\n",
    "search_box=driver.find_element_by_class_name('XTCLo')\n",
    "search_box.send_keys('dilsefoodie')\n",
    "waiter=WebDriverWait(driver, 10).until(EC.presence_of_element_located((By.CLASS_NAME, \"yCE8d\")))\n",
    "driver.find_element_by_class_name('yCE8d').click()\n",
    "time.sleep(3)\n",
    "count=0\n",
    "for i in driver.find_elements_by_xpath('//div[contains(@class, \"Nnq7C\")]/div/a/div[1]'):\n",
    "    i.click()\n",
    "    try:\n",
    "        WebDriverWait(driver, 5).until(EC.presence_of_element_located((By.XPATH, '//section[contains(@class, \"ltpMr\")]')))\n",
    "        time.sleep(0.8)\n",
    "        color=driver.find_element_by_xpath('//section[contains(@class, \"ltpMr\")]/span[contains(@class, \"fr66n\")]')\n",
    "        isornot=color.find_element_by_tag_name('svg')\n",
    "        xyz=isornot.get_attribute('outerHTML')\n",
    "        xyz=xyz[46:52]\n",
    "        if(xyz=='262626'):\n",
    "            color.click()\n",
    "        else:\n",
    "            print('Already Liked the Picture!')\n",
    "    except NoSuchElementException:\n",
    "        print('Not exixts!')\n",
    "    driver.back()\n",
    "    count+=1\n",
    "    if count==30:\n",
    "        print('Liked All ',count,' pictures')\n",
    "        break\n",
    "\n",
    "    \n"
   ]
  },
  {
   "cell_type": "markdown",
   "metadata": {},
   "source": [
    "### Unliking the top 30 posts of the ‘dilsefoodie’. Print message if you have already unliked it."
   ]
  },
  {
   "cell_type": "code",
   "execution_count": 52,
   "metadata": {},
   "outputs": [
    {
     "name": "stdout",
     "output_type": "stream",
     "text": [
      "Already Unliked the picture\n",
      "Already Unliked the picture\n",
      "Already Unliked the picture\n",
      "Already Unliked the picture\n",
      "Already Unliked the picture\n",
      "Already Unliked the picture\n",
      "Already Unliked the picture\n",
      "Already Unliked the picture\n",
      "Already Unliked the picture\n",
      "Already Unliked the picture\n",
      "Already Unliked the picture\n",
      "Already Unliked the picture\n",
      "Already Unliked the picture\n",
      "Already Unliked the picture\n",
      "Already Unliked the picture\n",
      "Already Unliked the picture\n",
      "Already Unliked the picture\n",
      "Already Unliked the picture\n",
      "Already Unliked the picture\n",
      "Already Unliked the picture\n",
      "Already Unliked the picture\n",
      "Already Unliked the picture\n",
      "Already Unliked the picture\n",
      "Already Unliked the picture\n",
      "Already Unliked the picture\n",
      "Already Unliked the picture\n",
      "Already Unliked the picture\n",
      "Already Unliked the picture\n",
      "Already Unliked the picture\n",
      "Already Unliked the picture\n",
      "UnLiked All   30  pictures\n"
     ]
    }
   ],
   "source": [
    "count=0\n",
    "for i in driver.find_elements_by_xpath('//div[contains(@class, \"Nnq7C\")]/div/a/div[1]'):\n",
    "    i.click()\n",
    "    try:\n",
    "        WebDriverWait(driver, 5).until(EC.presence_of_element_located((By.XPATH, '//section[contains(@class, \"ltpMr\")]')))\n",
    "        time.sleep(0.8)\n",
    "        color=driver.find_element_by_xpath('//section[contains(@class, \"ltpMr\")]/span[contains(@class, \"fr66n\")]')\n",
    "        isornot=color.find_element_by_tag_name('svg')\n",
    "        xyz=isornot.get_attribute('outerHTML')\n",
    "        xyz=xyz[46:52]\n",
    "        if(xyz=='262626'):\n",
    "            print('Already Unliked the picture')\n",
    "        else:\n",
    "            color.click()\n",
    "    except NoSuchElementException:\n",
    "        print()\n",
    "    driver.back()\n",
    "    count+=1\n",
    "    if count==30:\n",
    "        print('UnLiked All  ',count,' pictures')\n",
    "        break\n"
   ]
  },
  {
   "cell_type": "markdown",
   "metadata": {},
   "source": [
    "### Extract the usernames of the first 500 followers of ‘foodtalkindia’ and ‘sodelhi’."
   ]
  },
  {
   "cell_type": "code",
   "execution_count": 79,
   "metadata": {},
   "outputs": [],
   "source": [
    "driver.find_element_by_class_name('TqC_a').click()\n",
    "waiter=WebDriverWait(driver, 10).until(EC.presence_of_element_located((By.CLASS_NAME, \"XTCLo\")))\n"
   ]
  },
  {
   "cell_type": "code",
   "execution_count": 80,
   "metadata": {},
   "outputs": [],
   "source": [
    "search_box=driver.find_element_by_class_name('XTCLo')\n",
    "search_box.send_keys('So Delhi')\n",
    "waiter=WebDriverWait(driver, 10).until(EC.presence_of_element_located((By.CLASS_NAME, \"yCE8d\")))\n",
    "driver.find_element_by_class_name('yCE8d').click()"
   ]
  },
  {
   "cell_type": "code",
   "execution_count": 81,
   "metadata": {},
   "outputs": [
    {
     "name": "stdout",
     "output_type": "stream",
     "text": [
      "['earlybirdmanpower', 'brainwavegraphics', 'deekshitha_puttur', 'travelandfoodjournal', 'renjith_14', 'gofoodielife_08', 'thevegcookie', 'parasleoarora', 'pria_jaiswal', 'iamjames.zz', 'th0tty.mami', '_neha_dogra', 'manishkmr1912', 'neha3067singh', 'kiar_a51', 'deep21520', 'iampapun', 'tantrik91', 'rawa4416', '__introvert__._', 'ba__reem', 'tgetravels', 'hamza_muhammad06', 'deepesh.solanki.127', '__reaaaaaa__', 'shivampatisewala', '__dolugurjar', 'preitylambaa', 'doyoutravel_02', 'i_am_avi11', 'quotebylavina1', 'pubg_none', 'origami_archi', 'utkarshiskhudgarz', 'haresh.singh.1297943', 'being_harshi', 'kanishq_basoya_dellhii0001', 'aditigaur131', 'vicky___tanwar', 'geetzanjali_1923', 'realbeingone', 'mohsin.mansuri5390gmail.com8', 'thefact_officiall', 'shivamverma54817', 'puneetdtoughguy', 'xx__12_rajkumar_34__xx', '_rg_abhi', 'arpitupadhyay01', 'firozansari162', 'thesofia2', 'yashu51', 'sumedhthakur71', 'agralive', 'ankushaggarwal0068', 'kiran_surapaneni', 'jangdivya', 'being_preeah', '_aesthetic__fiend', 'aditya_pal1111', 'ajaykrthakurr', 'jaggi19198', 'prabh_kk', 'aakriti2707', 'ankitsagar_chaudhary', 'sachinharigarh0', 'mayur_v_chauhan_', 'jamwalsabh', 'abdul.__.haadi', 'sharkastic_', 'sebriellagrigo', 'dikshamadaan', 'weddingnights_official', 'mahikhanmixologist', 'harsh_0294', 'vinit.kush', '_official_faisal', 'yadavashutosh9898', 'aakash_choubey_', 'pravin.wanjari.395', 'paershkumar', 'softwarebunches', 'sureshakar1', 'grooshaa', 'sameersaifi950', 'kajalswarup', 'beingfoodieeee', 'divyakatakam11', 'who.sahil', 'kidnextdoor604', 'sagarsumanray', 'banichugh28', 'manulaya.singh', 'deus.nihil', 'anirudh_madhusudhanan', 'supaliidas17', 'snehajain56', 'miss_farrah94', 'aditikapoorrr', 'get.designergiri', 'simply_priya.nka', 'anthony.nld', 'swatisanta', 'daljeetkaurkohli', 'estheticcxx', '_ayush_biswas', 'jsbramgarhia', 'daasraajiir', 'hardik_gupta22', 'dishadixit307', 'nidhi_agerwal0', 'priyanshu12819', 'ig_devilyt_', 'shopatyourprice.in', 'punjabhealthfoundation', 'jannah_goalss', 'isakshiraturi', 'medhavik23', 'sarthakbisht101', 'anshusethi1', 'utkarsh.tripathi', 'sharmasadhwi', 'kimmei_dangmei', 'amarchaudhary_4', 'shikha.garg94', '_ajay_verma____', 'charu_rawat_', 'sarsaparila__', 'rashmi_156', 'adii_agg', '__.shoryayaya.__', 'suneja.neeru', 'kunal3301', 'gurlgottalive', 'shivam0079', 'gulbansal__', 'naseemahamad12348', 'divij_kadan', 'saghar_1000', '_sahni_jai_', '_lord_voldem0rt_', 'chopra_bajirao', 'alkyreddy', 'cheap__subscriptions__store', 'advoshamsias', 'kriti_kamotra', 'srivastava13lavina', '8272riya', 'sahejeet', 'addy0679', 'diechka1', 'thequeenofdarkness.1', 'house_of_shi', 'hardikgupta__13', 'iamanushagupta', 'videos_foodie', 'uttarakhandindetail', 'prahlad__rajput7773', 'bimalpreet_mohan', 'nfstapiya53', 'nilofer.e', 'kasvi.singh', 'dps_kota', 'muskann424', 'mickeymouse_memes', 'satyakshiarya', 'theproductreviewsofficial', 'aany.a741', 'armanijanan45', 'akansh17', 'tanmaychaudhary1', 'goswamianshul93', 'fill.your.tummy', 'ammarhashmiofficial', 'i.tanishh', 'meenakshi_dresses', 'half__blooded_', 'rudhirsareen', 'ramukumar3437', 'randomlypicture1', 'explorer.rishik', 'whatdimpleexplore', 'divya_biswas19', 'blue_bellgallery', 'upsc_vidhyapith', 'patriot_anurag', 'food.ogasm', 'kriticag', 'amazon_deals_amazing', 'vikrams_meena', 'damn_its_kdm', 'deeba.khan22', 'insta_promotion_9501', 'poojasandhu888', 'karan_sharmat6514', 'thedesignconundrum', 'poems_from_coelum', 'sidharth_dosa', 'mr.adi_malhotra_', 'faizanwtf', 'himanshusaini9818', 'classicbedroom', '__sksen__', 'popeye_kim', '_maan1_4', 'chetansharma3982', 'fashionsense_makeu', 'singh.vjs', 'spicytriangle', 'onlyg_irls143', '_thebrightlife___', 'him_anshu__', 'prashantkumarsingh_9', 'fambruh8590', 'sahbajjamia007gmail.com5', 'achalsachdeva28', 'sauravkumar71000', '___itz_the_sk_2.0__', 'salman_mirza_29', 'rishu_sanotra', 'notso_activeuser', 'nam_yumyum', '_sheena.bhatia_', 'namanrajpal356', 'travel_281', 'h_s_1816', 'sunurobat', '_q.u.e.e.n__a.s.h_', 'aa.shish84', 'sahilarora127', 'insta_business_challenge', 'confetti_on_canvas', 'mohit_mittal112', '_saurav_kumar_yadav_', 'rolls__queen', 'naomimccoo13', 'aaankitka', 'jagrit_kohli', 'jacqueline_4u', 'cookn_life', 'prernaaa_boo', 'ronzluv_0696', 'roy00069', 'iamabhishekjeengar', 'the_originalmimi', 'pikachu.peeka', 'life__goes__on___', '_ggggg_54', 'nisanth.esn', 'now_only_now_only_kumar', 'aasthajuneja_', 'poojagandhichhabra', 'marine.traders', 'dheeraj.yadav032', 'kevins_kamera_world', 'tyagi_ruchika', 'swalla045t', 'ahamadraza240', 'worshippooja_', 'nidhigoyal67', 'karshit_nigam', 'shubhamsharda', 'surendra.raghuvanshi165', 'surekasneha', 'farzona_mansur.official', '__lavisha_', 'philomathsoul', 'raghavthakur9420', 'sandhyasingh0710', 'x___pvtt', 'aman_singh0002', 'shruti_gupta8', 'agarwal_vaishali20', 'subscriptionflix', 'parusha_pandey', 'mohan.suyash', 'photographybyphonesz', 'nandiniibhardwaj', '_inside_mah_world_', 'amanmalik12081994', '_yashrastogi25', 'momo._.j', 'umanggha', 'sarikabhattacharya', 'kohlishashi', 'soumyabhasin009', 'r0hit_sharrma', 'shutter_khor', 'nextbigname', 'shraddha_thakkar31', 'fariasadik', 'jgliglou', 'gloriahanspal', 'jasmeetsingh4', 'the_millimeterbymadhuri', 'meenusbookcase', 'crift_e_food', 'abhinavraj110', 'shilpamdubey', 'navjot2867', 'akashbaghel704', 'akhnavi.aa', '_sarvjotsingh', 'iam_ankurgupta', 'singhbishtprabhudayal', 'manishmittal213', 'ssssameer._.khan', 'swatam_pattnaik', 'me_its_me_0', 'abhisingh_7411', 'jananepriya2425', 'noemifilus', 'raheja__deepika', 'anit6775', 'tyagiruchi11', 'rakhi_jindhad', 'himani7695', '_ritikaaaaaaa', 'ishita.crearts', 'yash_d995', 'dr.poonamverma24', 'aaarraavv', 'pari.2.o', 'himaaanshusingh', 'cutepie0411', 'sj_sunita', '_r.wg_', 'posh_trails', 'khannasangeeta889', 'rainanddreams', 'dillimerijaaan', 'iamdeliogeneroso', 'unparallelbelly', 'jayagowri_d', 'sinhaji_ka_larka_2.0', 'lakmekajal', 'uditanshuagarwal', 'abhishek_9291', 'anil_chaudhry_', 'tybrehan04', 'mohit_bansal_402', 'shoopiify', 'nandanisolpankhi', 'waikaesque', 'quarantined__chefs', '_hariyala_rajasthan', 'amankalra08', 'ig_rockingstar', '_tanvi_3121', '_07andy', 'dahiya__nitin', 'annieverma037', 'skilled_it', 'horn_please_', 'aaru.____', 'mevalsaab', 'simrann_k', 'advpoojamishra', '_probably_eating_', '_wattss_on', 'tuhinamalhotra', 'pvt.jiyaaaa', 'mr_taku_dui', 'rawat.deepa_', 'shri_thakur_ji_embroidery', 'peeehuu', 'im_satyam', 'gia_sachdev', 'ssa89108', 'designbysanvi', 'chirag_458', 'er__nikita__kapoor', 'charuarora2', 'saksham.pruthi', 'inderjeetsammi', 'the_artpage01', 'happiest_lives', 'gir_pa', 'snds_zd', 'mudita_jagota', 'house_of_meraki_flair', '01sakshi__', 'hamid_hemat1942', 'amore_lovequotes', 'sayanik0', 'fuking.lines', 'harman.1718', 'avi88singh1', 'fashionindiaworld', 'ankitgupta9000', '_ibatoolaltaf', 'stomach_way', 'iamssiddiqui', 'fazilkhan954839gmail.com4', 'head.over.meals09', 'paya_l299', 'madosik_01', 'varna_prabha', 'divyanshiahlawat', 'sanskrutijha15', 'arora.shwet', 'raj_abhishek40', 'thanksjaycee', 'annie_potters_kitchen', 'theaysoinc', 'bagzaiarchitects', 'baseem.bhai.921', 'good.willkitchen', '_slayer__12', 'foodieshraddha', 'tomar.vanshika_', 'idotic._.sperm', 'y.a.s.haa', 'changewaterchange', 'business__status', 'sherry_pooja', 'deepaksha1305', 'sultanarecipe', 'rahul035149', 'nidhiarorasmakeups.hnbacademy', 'arpitgkp0007', 'thegirlinthebigworld', 'deepak_bareja', 'mca.ruchi', 'sam_training20', 'abhinav_sharma1', 'bhukkadmanpreet', 'sachinpanwar8631', 'shivi_verma20', 'brjjjakj', 'varungupta.417', 'rupaljuneja', 'varshagoyal7', '_veronica___17', 'pallaviharpalanimua', 'dvreddy2900', '_chanderi_handloom_sarees_', 'elysianart0', 'farzaan_aatif_', 'the.local.lens', 'jaat_raam_lovely', 'massage_service_jaipur', 'mahika_jha', 'ridhi_madaan', 'theweddingframer', 'paarul_agg', 'manpreet9', 'satiate___', 'ashmi.sharma', 'kunalshah___', 'asmasheikhhh', 'manan.arora_10', 'tammi___tisha09', 'rajsing796', '_anzika', 'thelulzlife', 'mitaliiieeeeee', 'aakansha4222', 'shiv_industries_2oo3', 'mansipatel6408', 'psodhi1', '_.ishita._2080', 'riddhi_patel06', 'dwellings_di', '_bharatchoudhary11', 'royal__boy__930', 'uk86992017', 'mosaic_minimal', 'foodist_haven', 'bikaneri_papad', 'saloni.singhal23', 'sumitgulia_official', 'ntrdevkota', 'hopeless.boi', 'gaminghq.in', 'khyxxti_', 'chef_sreetama_bose', 'samad.vhora.94', 'aakashvakharia810', 'surbhhiiiiiiiiiiiiiiiii', 'rahulrealestatemart', 'guptaroopam_09', 'komalsharma14', 'ritikarai7373', 'ataul_khan72zh', 'pier21_', 'varu.n4578', 'gopal.saini.48', 'beunapologeticallyawesome', 'himanigoel30', 'snehil.dey', 'vinit_kush', 'ashabansal73', 'adivik98', 'anzlinbluezeans', 'pallavisingh96', 'arshugigolo', 'ashishkumar6659', 'sakfotu', 'divya_sharma_0698', 'sagarsondhi5']\n"
     ]
    }
   ],
   "source": [
    "try:\n",
    "    driver.execute_script('window.scrollTo(0, 0)')\n",
    "    driver.find_element_by_xpath('//a[@class=\"-nal3 \"]/span[@class=\"g47SY \"]').click()\n",
    "except NoSuchElementException:\n",
    "    driver.find_element_by_xpath('//a[@class=\" _81NM2\"]/span[contains(@class, \"g47SY\")]').click()\n",
    "waiter=WebDriverWait(driver, 10).until(EC.presence_of_element_located((By.XPATH, '//a[contains(@class, \"notranslate\")]')))\n",
    "while True:\n",
    "    try:\n",
    "        sodelhi=[]\n",
    "        count=0\n",
    "        while True:\n",
    "            elements=driver.find_elements_by_xpath('//a[contains(@class, \"notranslate\")]')\n",
    "            if len(elements)<500:\n",
    "                waiter=WebDriverWait(driver, 10).until(EC.presence_of_element_located((By.XPATH, '//ul[contains(@class, \"jSC57\")]')))\n",
    "                driver.execute_script('arguments[0].scrollIntoView(0, 100);', driver.find_element_by_xpath('//ul[contains(@class, \"jSC57\")]'))\n",
    "                time.sleep(0.8)\n",
    "            i=elements[count]\n",
    "            sodelhi.append(i.get_attribute('innerHTML'))\n",
    "            if len(sodelhi)>=500:\n",
    "                break\n",
    "            count+=1\n",
    "        break\n",
    "    except StaleElementReferenceException:\n",
    "        continue\n",
    "print(sodelhi)"
   ]
  },
  {
   "cell_type": "code",
   "execution_count": 83,
   "metadata": {},
   "outputs": [
    {
     "name": "stdout",
     "output_type": "stream",
     "text": [
      "['because_i_can_always', 'yajas.shah', 'chefstable24', 'innocent_shudhanshu_thakur_', 'rachitjain34', 'kaur_mandeep6556', '_silent_heart55', 'somnathlokande', 'nutsnspreads', 'neha_s_pujara', '_thatsweetpoison_', 'tclassicfash', 'anjankop', 'tasteandfoodie', 'notaglutton_foodexplorer', 'magic_menu', 'hijabi_vlogs', 'khanaakhajaanabykontii', 'shivampatisewala', 'munmun7955', '__dolugurjar', 'sartaj.singh19', 'artsclicksand', 'supriyalala', '__live.love.eat_', 'dezatobyritika', 'health.healing.wellness', 'maya_bhogilal', 'dimplekarnany', 'sanjaykumar23varma', 'varsu_12_08', 'fnny_wala_2', 'ankit_chaudhary4774', 'harshitakumari936', 'vickeykapoor', 'royaltravellerindia', 'proteinsciences', 'mohdshahnawaz01', 'sachinharigarh0', 'shudhdesitadka', 'gautommenon', 'thehungryhindustani', 'aakash_choubey_', 'raja.ar.jun', 'mehakagarwal_', 'bp_brandpages', 'whats__on_my_plate', 'mr_irshad.ji', 'aman_kochar.ak', 'explorecooking_nikitamenon', 'the_aesthetic_stuff', 'mr__ritzz__93', 'es_shehzad', 'arjunbhandari__', 'merj2009', 'gnssweets', 'naksh_shah6611', 'eatnenjoy_kol', 'magzine91', 'born__kaur', 'original_food_divinity', 'duga.nand', 'havansahani_95', 'sarsaparila__', 'sk_bilal_03', 'hggggjhahah', 'hottrends2108', 'am.be_28', 'nilofer.e', 'kanhav282', 'hyangla_hut', '_sufi22_', 'divya_biswas19', 'food.ogasm', 'fathimath309', 'kusam.jindal.9', 'mud_cafekolkata', 'shriram_goswami', 'sidkitchenofficial', 'kksystemsolutions', 'arabic_creativity', '_palak_jazz', 'rainanddreams', 'icheflucky', 'rishu_sanotra', 'craversbooty', 'ruchika_gupta21', 'fransisco_ppiero', 'shilpa.kt.716', 'sumerokitchen', 'sushant.nair', 'themumbaicrunch', 'quirky_.food', 'fatimarizwan50128', 'anjalikumarisingh20', '_yummy_foodies', 'amitkhatanabhatib', 'vaishnavi.wal', 'priya_rajput5643', 'swalla045t', '_probably_eating_', 'daneen_girl', 'mannatshadab', 'legallychubby', 'sankarshan_das', 'jkb797', '_sharma_shrutika', 'street_fastion', 'zurnamaxdurum', 'cookbookfor.dummies', 'mital_ahir_21', 'jay_jalaram_samosa_center', 'culinary_crazy', 'toxicity304', 'satish_diwakar_5399', 'onlyfordragoncity99', 'aromaofmykitchen_sapna', 'keturajvansh', 'reema.sethi333', 'jeevikitchen', 'fiftyshadesofrcp', 'drhinakukreja', 'glob.etrottergirls', 'bhopali_tea_lover', '_chippo_bear_', 'aroraakhil72', 'koleyskitchen', 'mishra._.akanksha', 'varshneikitty', 'pawankirar', 'aditi.mittal_07', 'damini199', 'aahil_mirza1268', 'ravivadodaria', 'annieverma037', '_svsaraf', 'skilled_it', 'shwetatripathi_', 'teen_monk', '___w.h.a.t__happen___', 'kubrasinankose', 'navimumbai_foods', 'foodfeast__', 'baljeetsainiofficial', 'awalktohorizon', 'ravikumar73', '_moniccadeopa_', '7star_chicken_eggs_trader', 'varunmidha', 'foodandarchitect', 'tanyakalra21', 'spanish_by_sakshi', 'tiny_girl_huge_foodie', 'thebhutiagirl', 'richa_sahni', 'chux_iya', 'odetohospo', 'sudhir.agrawal.73594', 'bagzaiarchitects', 'taste_ofyummy', 'mistryarchita', 'priyankakundu107', 'mahipradeeppandey295', 'bhakti_mohite_7', 'foodiekomal', 'sunilkumarpatel182', 'shreyanshchordia01', 'star_seed____', 'starternmore', 'sakariya9', 'dilbag3111', 'sapnasaraf1304', 'wanderingaengus_', 'karan__bro_', 'garg.sheenam', 'scrumptiosfoods', 'sdhara28', 'mdrsaif', 'cupc.ake846', 'jay_3fc', 'delightfoodlife', 'clibano_bakery_cafe', 'tandan.7024', 'ankita_wai', 'oh_m_hungry', 'whoizhope', 'aneequa_erum', 'ggraphy', 'muskanrathore001', '1927___fatima', 'bachelor_homemade_food', '_anzika', 'epiphanysnacks', 'azhar007777', 'rajesh_rebel_123', 'vibz1904', 'pakhi284', 'bavwak', 'prathamesh_shelatkar', 'bigbattercakes', 'rad2206', 'gauriii____', '_murshida_21', 'chefs_foodway', 'food_travel__design', 'mr.nick.522', 'bikaneri_papad', 'karan_badodiya', 'ns_foodvalley', 'manan2953', 'stepupfoodtechsolutions', 'jasper___1012', 'batmanh5', '_insaadgram_', 'mommytimesblog', 'the_food_philosophy25', 'hot_and_cool_kabir', 'ammuzee45', 'sneha_ransh', 'foody_ambhrin', '__anah.05', 'grocarto', 'pokiya_dev', 'vaibhav.deep', 'dollz07', 'daily_bread96', 'crazy_boy_prince14', 'flavourofdiva', 'randeep1795', 'niisar_ahmad', 'deepakdepp11', 'ishwarya_ns', 'kanakavalli_ramanujam', 'biliiikant___6023456', '_prince_9544', 'littledanish333', 'ashritha66', '_saher__', 'samaanmd', 'coup__de__food', 'the_shortcrust', 'v_vittle', 'mshadab.zafar', 'kailash3516', 'bhavyasahaya', 'esha_0999', 'veremo_choco_world', 'somnath.bardhan', 'ittz_numan_ansari', 'swatisfoodstudio', 'rahul__.badshah', 'riyaaajain', 'imanjyotkaur_', 'jv_joy_', 'aj_design01', 'ambrishrangarajan', 'huesof_violet', 'foodnthenature', 'chefnandinikumari', 'icon_specialities', 'poonamshiyal', 'zarinamirajkar', 'ifra.25', 'petal_pose_priyanka', 'the_hungry_i', 'josphinemaypa', '__house__of__yumm__', 'panditajaykumarjoshi', 'majahar_syed', 'zaraqais', 'decembers.daisy', 'suhas__kadam', 'ckomatineni4', 'homeandstuff96', 'punebartender2543', 'sainandangowda', 'kamlariver', 'fiyona_07', 'deep_ti80foodie', 'mr._saqib_', 'shootmyfood_', 'madhuban_events_by_vinit_jain', 'vishnupriya_1495', 'foodie_gurugrammer', 'thefairytaleflavours', 'home_food_magica', 'aaqif111', 'go_trip_party', 'surekhaskitchen', '_alice_rgl', 'rimi_0404', 'neonclicks', 'bhattacharjee506', 'chetanchawla20', '_arisha.23', 'goodheart792020', 'rabiadaniyalahmad', 'vidhatrisaxena', 'tableutopia', 'jainsmriti2012', 'xzxczy', 'delhifoodblogger', 'joaobaatista_', 'royalcelebrations.in', 'fsix.in', 'racingpoint.7777', 'shubhikamehra', 'shivaninarang05', 'shawezchoudhary', 'sheona_1773', 'foodiebaaabaa', '_cafeholic', 'vaibhavchopra48', 'beingdebofficial', 'deepanshi_1996', 'takeawayservice', 'nehana11', 'khanpan._', 'chakrabortyshomali', 'me_aparna_goutham__', 'amirhashmi_', 'rohit_raj_7850', 'vivekxjoshi', 'drool.stories', 'farmer_to_direct_customers', 'vysakh_ftsofficial', 'letishajc', 'the_sweet_tooth_by_neerudhawan', 'mr.p.prajapat', 'eat_ride_n_enjoy', 'anindabhowal', 'happinessinpixels__', 'amna201321', 'samvidhap', 'ahmedrazamathakiya', 'poojarohra17', '_.food_shots._', 'henabolobolo_', '_lekshmi_anil', 'unknownn327722', 'kuldeepdinesh', 'vikramdeb', 'vikasgautam925', 'cheshtasbakeryboutique', 'luckybhargav3', 'meghagoelnow', 'muneer690', 'smiling_earth_', 'archiesimhan', 'foodloverscrazy', 'hellodoctorfood', 'nikhil.vadher_photography', 'rangoli.kolangal', 'arabiangrillhouse_', 'teekha_chaska', 'nidhimundralohia', 'bhavana_gowda29', 'sanchit9971', 'foodprocessin', 'revelsworkload8', 'jarvisgracias', 'saipavanreddy_007', 'the_yash_nigam', 'rivgkbarad', 'followthefoodietrend', 'yoga__holic_s', 'sujatabehal', 'saha_ji.2.7', 'deepaliankur', 'harshalisharma11', 'the_foodandfitness_duet', 'gillpreetji', 'k4nud.o', 'elamorbakery', 'fortheloveoffood__o', 'the_curly_tales_24', 'nowitsprateek', 'svasthyaindia', 'ashwini.sh.96', 'souravnandi_97', 'amith_411', 'binal_serene', 'satguru__handicraft', 'imamanofficial4', 'the_spicytooth', 'jhootifoody', 'thefreedompark_meenamundada', 'hungrypeaches', 'dryfruits_dates_nuts_spices', 'fezz.ansari', 'renuka_jandial', 'dsouza.sujata', 'popricot.rajani', 'prachi.singh01', 'vishal_shekhar4445', 'bhavna_singh4', 'wedesi_bartender', 'karan_kundra_21', 'nishantnupur', 'ankitaa_verma', 'itzmesunshine12', 'mehfoozsaifi1807', 'rashmi.bhise', 'zane_thelabretriever', 'saurav.singh.9461', 'bingenotcringe', 'dheerajparki', 'ramya_haran29', 'foodaholics_aishlaya', 'manasi94', 'umasaraf_bittu', 'guneet1204', 'kangscookingcorner', 'treatyousoul____', 'bhandariruby', 'hihgourmetfood', 'homeofcheese_th', 'rejectedjoker', '___potatoplus___', 'kashfyahsanbrishty', '__smridhi', 'supriyath72', 'ovi_cara', 'anukriti._.10', 'runa_nandi', 'p_a_r_i_s_h_a', 'sharan_education', 'parinikareddy', '7044ibrahim', 'niharika_xoo', 'sharvari.sonar', 'vidushi__singh', 'nikkishetti', 'kratigirhotra', 'lolzesty', 'harshit.yms', 'desimunchers', 'cosmonaute', 'ishika_lohia28', 'mowgli_kitchen', 'the_yummy_02', '_just_achu_things', 'bhabhi8713', 'lost_in_translation___', '_vacationly_', '_gentlemensayings_', 'cooking__emotionally___', 'nobleman_fanforever', 'l_o_n_y_', 'vinurocky1', 'acheesybaker', 'vikbardo', 'shilpi_mittal111', 'its_me_poojaa_', 'anjali__mahajan', 'a_chef_atyourhome', 'ida_jency', 'jhamb.gautam', 'shovitha', 'nbothra92', 'x__prathmesh__8__x', 'adlibberpongo', 'vfoodicted', 'venusd.mccracken', 'earn_money_globally', 'creativesaroundtheworld', 'santoshi_ravikumar', 'ghungrooseth_vadapavco', 'kaifiyatbyankita', 'the_foodie._in_me', 'yumiiiez', 'bablibond', 'la_fuente_de_tigard', 'tadka.log', 'delhiibelly', 'manishkmr1912', 'dilse_desi_foodiee', 'bigpappasfood', 'laksisbest', 'helpother_mumbai', 'spot_ofattraction', 'travel_n_fuddies', '_middleone', 'priyabakshi22', '_vishaladhikari', 'health.in.a.jar_india', 'srushti.s.sawant', 'ruby_wo0', 'shrutikapoor1110', 'literarystew', 'i_msupertramp', 'hardeepii', 'karan_bhawnani', 'sudha_fastfood_mazgaon', 'mushfaambreen', 'nikita_agarwal15', 'shabnnam_bhati', 'pan_apron', 'agarwalmohini', 'sellaksh']\n"
     ]
    }
   ],
   "source": [
    "driver.back()\n",
    "driver.find_element_by_class_name('TqC_a').click()\n",
    "search_box=driver.find_element_by_class_name('XTCLo')\n",
    "search_box.send_keys('foodtalkindia')\n",
    "waiter=WebDriverWait(driver, 10).until(EC.presence_of_element_located((By.CLASS_NAME, \"yCE8d\")))\n",
    "driver.find_element_by_class_name('yCE8d').click()\n",
    "try:\n",
    "    driver.execute_script('window.scrollTo(0, 0)')\n",
    "    driver.find_element_by_xpath('//a[@class=\"-nal3 \"]/span[@class=\"g47SY \"]').click()\n",
    "except NoSuchElementException:\n",
    "    driver.find_element_by_xpath('//a[@class=\" _81NM2\"]/span[contains(@class, \"g47SY\")]').click()\n",
    "waiter=WebDriverWait(driver, 10).until(EC.presence_of_element_located((By.XPATH, '//a[contains(@class, \"notranslate\")]')))\n",
    "while True:\n",
    "    try:\n",
    "        foodtalkindia=[]\n",
    "        count=0\n",
    "        while True:\n",
    "            elements=driver.find_elements_by_xpath('//a[contains(@class, \"notranslate\")]')\n",
    "            if len(elements)<500:\n",
    "                waiter=WebDriverWait(driver, 10).until(EC.presence_of_element_located((By.XPATH, '//ul[contains(@class, \"jSC57\")]')))\n",
    "                driver.execute_script('arguments[0].scrollIntoView(0, 100);', driver.find_element_by_xpath('//ul[contains(@class, \"jSC57\")]'))\n",
    "                time.sleep(0.8)\n",
    "            i=elements[count]\n",
    "            foodtalkindia.append(i.get_attribute('innerHTML'))\n",
    "            if len(foodtalkindia)>=500:\n",
    "                break\n",
    "            count+=1\n",
    "        break\n",
    "    except StaleElementReferenceException:\n",
    "        continue\n",
    "print(foodtalkindia)"
   ]
  },
  {
   "cell_type": "code",
   "execution_count": 85,
   "metadata": {},
   "outputs": [],
   "source": [
    "driver.back()"
   ]
  },
  {
   "cell_type": "markdown",
   "metadata": {},
   "source": [
    "### Now print all the followers of “foodtalkindia” that you are following but those who don’t follow you."
   ]
  },
  {
   "cell_type": "code",
   "execution_count": 94,
   "metadata": {},
   "outputs": [],
   "source": [
    "driver.find_element_by_class_name('sqdOP').click()\n",
    "time.sleep(0.2)\n",
    "profile=driver.find_element_by_class_name(\"-qQT3\")"
   ]
  },
  {
   "cell_type": "code",
   "execution_count": 95,
   "metadata": {},
   "outputs": [],
   "source": [
    "profile.click()"
   ]
  },
  {
   "cell_type": "code",
   "execution_count": 103,
   "metadata": {},
   "outputs": [],
   "source": [
    "total_followers=int(driver.find_element_by_xpath('//a[@class=\"-nal3 \"]/span[@class=\"g47SY \"]').get_attribute('innerHTML'))\n",
    "driver.find_element_by_xpath('//a[@class=\"-nal3 \"]/span[@class=\"g47SY \"]').click()\n",
    "waiter=WebDriverWait(driver, 10).until(EC.presence_of_element_located((By.XPATH, '//a[contains(@class, \"notranslate\")]')))"
   ]
  },
  {
   "cell_type": "code",
   "execution_count": 104,
   "metadata": {},
   "outputs": [],
   "source": [
    "while True:\n",
    "    try:\n",
    "        myfollowers=[]\n",
    "        count=0\n",
    "        while True:\n",
    "            elements=driver.find_elements_by_xpath('//a[contains(@class, \"notranslate\")]')\n",
    "            if len(elements)<total_followers:\n",
    "                waiter=WebDriverWait(driver, 10).until(EC.presence_of_element_located((By.XPATH, '//ul[contains(@class, \"jSC57\")]')))                           \n",
    "                driver.execute_script('arguments[0].scrollIntoView(0, 100);', driver.find_element_by_xpath('//ul[contains(@class, \"jSC57\")]'))\n",
    "                time.sleep(0.8)\n",
    "            i=elements[count]\n",
    "            myfollowers.append(i.get_attribute('innerHTML'))\n",
    "            if len(myfollowers)==total_followers:\n",
    "                break\n",
    "            count+=1\n",
    "        break\n",
    "    except StaleElementReferenceException:\n",
    "        continue"
   ]
  },
  {
   "cell_type": "code",
   "execution_count": 109,
   "metadata": {},
   "outputs": [],
   "source": [
    "driver.back()\n",
    "waiter=WebDriverWait(driver, 10).until(EC.presence_of_element_located((By.XPATH, '//a[@class=\"-nal3 \"]/span')))\n",
    "total_following=int(driver.find_elements_by_xpath('//a[@class=\"-nal3 \"]/span')[1].get_attribute('innerHTML'))\n",
    "driver.find_elements_by_xpath('//a[@class=\"-nal3 \"]/span[@class=\"g47SY \"]')[1].click()\n",
    "waiter=WebDriverWait(driver, 10).until(EC.presence_of_element_located((By.XPATH, '//a[contains(@class, \"notranslate\")]')))"
   ]
  },
  {
   "cell_type": "code",
   "execution_count": 110,
   "metadata": {},
   "outputs": [],
   "source": [
    "while True:\n",
    "    try:\n",
    "        following=[]\n",
    "        count=0\n",
    "        while True:\n",
    "            elements=driver.find_elements_by_xpath('//a[contains(@class, \"notranslate\")]')\n",
    "            if len(elements)<total_following:\n",
    "                waiter=WebDriverWait(driver, 10).until(EC.presence_of_element_located((By.XPATH, '//ul[contains(@class, \"jSC57\")]')))\n",
    "                driver.execute_script('arguments[0].scrollIntoView(0, 100);', driver.find_element_by_xpath('//ul[contains(@class, \"jSC57\")]'))\n",
    "                time.sleep(0.8)\n",
    "            i=elements[count]\n",
    "            following.append(i.get_attribute('innerHTML'))\n",
    "            if len(following)==total_following:\n",
    "                break\n",
    "            count+=1\n",
    "        break\n",
    "    except StaleElementReferenceException:\n",
    "        continue"
   ]
  },
  {
   "cell_type": "code",
   "execution_count": 111,
   "metadata": {},
   "outputs": [
    {
     "name": "stdout",
     "output_type": "stream",
     "text": [
      "281\n",
      "Given below is a set of all the followers of “foodtalkindia” that I am following but those who don’t follow me.\n",
      "ns_foodvalley\n"
     ]
    }
   ],
   "source": [
    "print('Numbers of my follower: ',len(myfollowers))\n",
    "following=set(following)\n",
    "myfollowers=set(myfollowers)\n",
    "foodtalkindia=set(foodtalkindia)\n",
    "followers_of_foodtalkindia_that_i_am_following= following.intersection(foodtalkindia)\n",
    "print('Given below is a set of all the followers of “foodtalkindia” that I am following but those who don’t follow me.')\n",
    "if len(followers_of_foodtalkindia_that_i_am_following-myfollowers)==0:\n",
    "    print(\"--->No such followers\")\n",
    "for i in followers_of_foodtalkindia_that_i_am_following-myfollowers:\n",
    "    print(i)\n"
   ]
  },
  {
   "cell_type": "markdown",
   "metadata": {},
   "source": [
    "### Check the story of ‘geeks_for_geeks’. Consider the following Scenarios and print error messages accordingly -\n",
    "### 1  If You have already seen the story.\n",
    "### 2 Or The user has no story.\n",
    "### 3 Or View the story if not yet seen."
   ]
  },
  {
   "cell_type": "code",
   "execution_count": 112,
   "metadata": {},
   "outputs": [],
   "source": [
    "driver.back()"
   ]
  },
  {
   "cell_type": "code",
   "execution_count": 114,
   "metadata": {},
   "outputs": [
    {
     "name": "stdout",
     "output_type": "stream",
     "text": [
      "You have already seen the story!\n"
     ]
    }
   ],
   "source": [
    "driver.find_element_by_class_name('TqC_a').click()\n",
    "search_box=driver.find_element_by_class_name('XTCLo')\n",
    "search_box.send_keys('coding.ninjas')\n",
    "waiter=WebDriverWait(driver, 10).until(EC.presence_of_element_located((By.CLASS_NAME, \"yCE8d\")))\n",
    "driver.find_element_by_class_name('yCE8d').click()\n",
    "time.sleep(2)\n",
    "try:\n",
    "    if int(driver.find_element_by_xpath('//div[contains(@class, \"h5uC0\")]/canvas').get_attribute('height'))==168:\n",
    "        print('You have not seen the story yet! The story will be shown to you now. check out the driver window')\n",
    "        driver.find_element_by_xpath('//div[contains(@class, \"h5uC0\")]').click()\n",
    "    elif int(driver.find_element_by_xpath('//div[contains(@class, \"h5uC0\")]/canvas').get_attribute('height'))==166:\n",
    "        print('You have already seen the story!')\n",
    "except NoSuchElementException:\n",
    "    print('The user has no story!')"
   ]
  },
  {
   "cell_type": "code",
   "execution_count": null,
   "metadata": {},
   "outputs": [],
   "source": []
  }
 ],
 "metadata": {
  "kernelspec": {
   "display_name": "Python 3",
   "language": "python",
   "name": "python3"
  },
  "language_info": {
   "codemirror_mode": {
    "name": "ipython",
    "version": 3
   },
   "file_extension": ".py",
   "mimetype": "text/x-python",
   "name": "python",
   "nbconvert_exporter": "python",
   "pygments_lexer": "ipython3",
   "version": "3.7.6"
  }
 },
 "nbformat": 4,
 "nbformat_minor": 4
}
